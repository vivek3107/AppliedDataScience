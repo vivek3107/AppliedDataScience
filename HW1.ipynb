{
 "cells": [
  {
   "cell_type": "markdown",
   "metadata": {},
   "source": [
    "Name:Vivek Pawar\n",
    "\n",
    "Andrew ID: vpawar"
   ]
  },
  {
   "cell_type": "markdown",
   "metadata": {},
   "source": [
    "### Instructions\n",
    "1. Fill in your name and Andrew ID.\n",
    "2. Fill in the code/text blocks to answer each question.\n",
    "3. Do *not* change any of the existing code provided.\n",
    "4. Run the entire notebook *before* submitting it on Canvas to make sure that the code actually runs without errors. (**Important**: Any question for which your code fails to run will receive 0 points.)\n",
    "5. Be care about where you save data for use with this Jupyter notebook (more details on this later).\n",
    "6. Have fun!"
   ]
  },
  {
   "cell_type": "markdown",
   "metadata": {},
   "source": [
    "### [Problem 1] Python Basics [10 pts]\n",
    "This problem helps you get familiar with (or review) some basic Python operations. \n",
    "\n",
    "Consider the following two lists:"
   ]
  },
  {
   "cell_type": "code",
   "execution_count": 1,
   "metadata": {
    "collapsed": true
   },
   "outputs": [],
   "source": [
    "a = [13, 1, 55, 34, 2, 3, 89, 5, 8, 21]\n",
    "b = [17,55, 34, 2, 3, 8, 9, 1, 4, 5, 6, 7, 20, 21, 36]"
   ]
  },
  {
   "cell_type": "markdown",
   "metadata": {},
   "source": [
    "(a) [2 pts] Find the elements that are common between the lists and store it in a new list. Print the new list."
   ]
  },
  {
   "cell_type": "code",
   "execution_count": 2,
   "metadata": {},
   "outputs": [
    {
     "name": "stdout",
     "output_type": "stream",
     "text": [
      "[1, 34, 3, 2, 5, 8, 21, 55]\n"
     ]
    }
   ],
   "source": [
    "c = list(set(a).intersection(b))\n",
    "print(c)"
   ]
  },
  {
   "cell_type": "markdown",
   "metadata": {},
   "source": [
    "(b) [3 pts] Write **one line** of code that takes this list of common elements and makes another new list that has only the even numbers of this list in it (hint: use a list comprehension). Print the new list."
   ]
  },
  {
   "cell_type": "code",
   "execution_count": 3,
   "metadata": {},
   "outputs": [
    {
     "data": {
      "text/plain": [
       "[34, 2, 8]"
      ]
     },
     "execution_count": 3,
     "metadata": {},
     "output_type": "execute_result"
    }
   ],
   "source": [
    "[x for x in c if (x%2 == 0)]"
   ]
  },
  {
   "cell_type": "markdown",
   "metadata": {},
   "source": [
    "(c) [5 pts] Write a function that takes a list as input, finds the maximum value in the list, and returns the maximum value as the output. (Do NOT use built-in `max()` function, or any other packages. Write it yourself.) Test the function with the list you generated in part (b) of this problem."
   ]
  },
  {
   "cell_type": "code",
   "execution_count": 4,
   "metadata": {},
   "outputs": [
    {
     "data": {
      "text/plain": [
       "34"
      ]
     },
     "execution_count": 4,
     "metadata": {},
     "output_type": "execute_result"
    }
   ],
   "source": [
    "def max(l):\n",
    "    Max = l[0]\n",
    "    for i in l:\n",
    "        if Max < i:\n",
    "            Max = i\n",
    "    return Max\n",
    "\n",
    "max([x for x in c if (x%2==0)])"
   ]
  },
  {
   "cell_type": "markdown",
   "metadata": {},
   "source": [
    "### [Problem 2] The Distribution of Words in a Human Language: Zipf's Law [45 pts]\n",
    "\n",
    "In this problem, you will be looking at a phenomenon of \"natural languages\" (i.e., human languages, such as English). As it turns out, when we look at the distribution of words in a different human languages, the distribution roughly follows what's called *Zipf's law* ([Wikipedia](https://en.wikipedia.org/wiki/Zipf%27s_law)).\n",
    "\n",
    "*Zipf's law* states that given a large sample of words used, any word's frequency is inversely proportional to its rank in the frequency table (the word with rank 1 is the most frequently occurring word, the word with rank 2 is the second most frequently occurring word, etc). In this problem, you are going to test Zipf's law on a real dataset and explore some of its properties.\n",
    "\n",
    "This problem assumes you have already installed the `spaCy` package (https://spacy.io). Instructions for installing this are part of the tutorial file \"`95-865 Anaconda and Jupyter setup tutorial.pdf`\". You can find how to access lemmatized tokens using `spaCy` by looking at the `spaCy` demo Jupyter notebook from lecture (we have included it in this homework assignment as the file \"`95-865 spaCy demo.ipynb`\").\n",
    "\n",
    "(a) [5 pts] Read the data files.\n",
    "\n",
    "The dataset is a collection of the 100 most popular books downloaded from Gutenburg Project (https://www.gutenberg.org/browse/scores/top). Each file contains the text of a book. Now read all the texts from disk. This will be the corpus in this problem.\n",
    "\n",
    "Note: Please DO NOT change the folder name or the path, and make sure you use a relative path (e.g. './HW1_Dataset/*filename*) when reading the files. When grading your homework, we will put your Jupyter notebook file and the dataset in the same folder, and run your code. **You will receive 0 points for this problem if your code fails to load the data.**\n",
    "\n",
    "Hint: To list all files that match a certain pattern, you can use the `glob` package. Here's an example usage:\n",
    "\n",
    "`\n",
    "import glob\n",
    "print(glob.glob('./HW1_Dataset/*.txt'))\n",
    "`\n",
    "\n",
    "Hint: When debugging your code, you may want to first make sure your code runs on a few of the books rather than all 100 (for example, you can start by only having 3 of the text files in `HW1_Dataset`). Once you're confident that your solution is correct on a few text files, then run on all of them! This is a standard approach to debugging code that is meant to handle large datasets."
   ]
  },
  {
   "cell_type": "code",
   "execution_count": 99,
   "metadata": {
    "collapsed": true
   },
   "outputs": [],
   "source": [
    "import glob\n",
    "import os\n",
    "\n",
    "filenames = glob.glob('./HW1_Dataset/*.txt')  # list of all .txt files in the directory\n",
    "with open('outfile.txt',\"w\", encoding=\"utf8\") as output:\n",
    "    for file in filenames:\n",
    "        with open(file,'r',encoding=\"utf8\") as intermediatefile:\n",
    "            output.write(intermediatefile.read()+'\\n')\n",
    "F = open('outfile.txt',\"r\",encoding=\"utf8\") \n",
    "data = F.read()\n",
    "F.close()\n",
    "os.remove(\"outfile.txt\") "
   ]
  },
  {
   "cell_type": "markdown",
   "metadata": {},
   "source": [
    "(b) [15 pts] Build the frequency table. Specifically, complete the following three tasks:\n",
    "\n",
    "  1. Process the text by separating and lemmatizing the words.\n",
    "  2. Then count the number of times each word appears in the corpus and build a frequency table. (In particular, use raw counts as the \"frequency\"--do not divide by the total number of words in the corpus.)\n",
    "  3. Sort the table and print the top 50 most frequent words, along with their frequencies and ranks.\n",
    "\n",
    "Note: When counting the words, only include words (tokens) that consist of alphabetic letters (a-z and A-Z). You can do this with what's called a *regular expression*. For example, to check whether the words \"will.i.am\" or \"Tesla\" are alphabetic, you would do the following:\n",
    "\n",
    "`\n",
    "import re  # regular expression package\n",
    "if re.match('[a-zA-Z]+$', 'will.i.am'):\n",
    "    print('will.i.am consists only of alphabetic letters!')\n",
    "if re.match('[a-zA-Z]+$', 'Tesla'):\n",
    "    print('tesla consists only of alphabetic letters!')\n",
    "`"
   ]
  },
  {
   "cell_type": "code",
   "execution_count": 101,
   "metadata": {},
   "outputs": [
    {
     "name": "stdout",
     "output_type": "stream",
     "text": [
      "1 the : 703040\n",
      "2 be : 438284\n",
      "3 and : 436049\n",
      "4 of : 386402\n",
      "5 to : 324526\n",
      "6 a : 234146\n",
      "7 in : 204369\n",
      "8 have : 159582\n",
      "9 that : 159142\n",
      "10 not : 110600\n",
      "11 with : 101248\n",
      "12 for : 95439\n",
      "13 as : 90860\n",
      "14 but : 75888\n",
      "15 do : 68888\n",
      "16 at : 65031\n",
      "17 on : 62908\n",
      "18 by : 61992\n",
      "19 this : 61343\n",
      "20 which : 58932\n",
      "21 all : 58822\n",
      "22 say : 58566\n",
      "23 from : 50107\n",
      "24 so : 48117\n",
      "25 or : 47838\n",
      "26 will : 43115\n",
      "27 one : 41275\n",
      "28 man : 40159\n",
      "29 no : 38567\n",
      "30 what : 37922\n",
      "31 there : 37287\n",
      "32 if : 34981\n",
      "33 go : 34025\n",
      "34 when : 33646\n",
      "35 would : 32745\n",
      "36 come : 32497\n",
      "37 an : 32470\n",
      "38 see : 32059\n",
      "39 who : 30950\n",
      "40 make : 30450\n",
      "41 then : 27360\n",
      "42 may : 26984\n",
      "43 out : 26898\n",
      "44 know : 25607\n",
      "45 more : 25528\n",
      "46 up : 25383\n",
      "47 good : 24814\n",
      "48 take : 23975\n",
      "49 shall : 23854\n",
      "50 other : 23709\n"
     ]
    }
   ],
   "source": [
    "import spacy\n",
    "import re\n",
    "nlp = spacy.load('en')  # load spaCy's built-in English models\n",
    "parsed_text = nlp(data)\n",
    "\n",
    "histogram = {}\n",
    "\n",
    "for token in parsed_text:\n",
    "    lemma = token.lemma_\n",
    "    if re.match('[a-zA-Z]+$', lemma):\n",
    "        if lemma in histogram:\n",
    "            histogram[lemma] += 1\n",
    "        else:\n",
    "            histogram[lemma] = 1\n",
    "\n",
    "sorted_lemma_count_pairs_entire_list  = sorted(histogram.items(),\n",
    "                                 reverse=True,\n",
    "                                 key=lambda x: x[1])\n",
    "L = []\n",
    "rank = 1\n",
    "for lemma, count in sorted_lemma_count_pairs_entire_list:\n",
    "    L.append((rank,lemma,count))\n",
    "    rank = rank +1\n",
    "    \n",
    "L_50 = L[0:50]\n",
    "for rank, lemma, count in L_50:\n",
    "    print(rank, lemma,\":\", count)"
   ]
  },
  {
   "cell_type": "markdown",
   "metadata": {},
   "source": [
    "(c) [10 pts] Visualize the frequency table by plotting a **raw scatter plot** (put frequency as the y-axis and rank as the x-axis), and a **log-log plot** (use logarithmic scales on both the x- and y- axes)."
   ]
  },
  {
   "cell_type": "code",
   "execution_count": 102,
   "metadata": {},
   "outputs": [
    {
     "data": {
      "text/plain": [
       "<matplotlib.text.Text at 0x1e600a05e48>"
      ]
     },
     "execution_count": 102,
     "metadata": {},
     "output_type": "execute_result"
    },
    {
     "data": {
      "image/png": "[encoded data removed]",
      "text/plain": [
       "<matplotlib.figure.Figure at 0x1e5be3b2f60>"
      ]
     },
     "metadata": {},
     "output_type": "display_data"
    }
   ],
   "source": [
    "%matplotlib inline\n",
    "import matplotlib.pyplot as plt\n",
    "num_to_plot=len(L)\n",
    "top_rank = [rank for rank, lemma, count in L[:num_to_plot]]\n",
    "top_counts = [count for rank, lemma, count in L[:num_to_plot]]\n",
    "plt.scatter(top_rank,top_counts, label='skitscat', color='k', s=25, marker=\"o\")\n",
    "plt.xlabel('Rank')\n",
    "plt.ylabel('Frequency')"
   ]
  },
  {
   "cell_type": "code",
   "execution_count": 103,
   "metadata": {
    "scrolled": false
   },
   "outputs": [
    {
     "data": {
      "text/plain": [
       "<matplotlib.text.Text at 0x1e6009f0ac8>"
      ]
     },
     "execution_count": 103,
     "metadata": {},
     "output_type": "execute_result"
    },
    {
     "data": {
      "image/png": "[encoded data removed]",
      "text/plain": [
       "<matplotlib.figure.Figure at 0x1e5f9871c88>"
      ]
     },
     "metadata": {},
     "output_type": "display_data"
    }
   ],
   "source": [
    "# Log-log plot\n",
    "plt.subplot(223)\n",
    "plt.style.use('ggplot') \n",
    "plt.loglog(top_rank, top_counts, basex=10, basey=10)\n",
    "plt.grid(True)\n",
    "plt.title('LogLog plot with base 10 on both axes')\n",
    "plt.xlabel('log2(Rank)')\n",
    "plt.ylabel('log2(Frequency)')"
   ]
  },
  {
   "cell_type": "markdown",
   "metadata": {},
   "source": [
    "(d) [15 pts] Explore the frequency table: Zipf's law states that term frequency is governed by a power low, i.e. the relationship between term frequency and rank can be approximated by $f(r) = cr^{-1}$, where $f(r)$ is the frequency of the term at rank $r$, $r$ is the rank of a term, and $c$ is a constant and is approximately 0.1*(corpus size) for English. \n",
    "\n",
    "Answer following questions:\n",
    "\n",
    "- What do you observe in the log-log plot above? Is this consist with the power law?"
   ]
  },
  {
   "cell_type": "markdown",
   "metadata": {},
   "source": [
    "Answer: The above log-log plot is consistent with the power law as we can see in log-log plot log of frequency is inversly proportional to log of rank (As with the increase in log value of rank, log value of frequecny decreases)."
   ]
  },
  {
   "cell_type": "markdown",
   "metadata": {},
   "source": [
    "- Think of the corpus as a (large) unigram bag of words. Following the analogy from lecture, imagine drawing a single word from this big bag (note that we are assuming that we've lemmatized the words and also filtered out non-alphanumeric words). What is the probability of drawing one of the 4 most frequent words? What is the probability of drawing one of the 50 most frequent words? Answer these two questions using code rather than just entering in the final answers as numbers."
   ]
  },
  {
   "cell_type": "code",
   "execution_count": 104,
   "metadata": {},
   "outputs": [
    {
     "name": "stdout",
     "output_type": "stream",
     "text": [
      "Probability of drawing one of the 4 most frequent words: \n",
      "0.18172385192473067\n",
      "Probability of drawing one of the 50 most frequent words: \n",
      "0.4579131991513523\n"
     ]
    }
   ],
   "source": [
    "print('Probability of drawing one of the 4 most frequent words: ')\n",
    "sumFrequency = sum([count for lemma, count in sorted_lemma_count_pairs_entire_list[:4]])\n",
    "totalFrequency = sum([count for lemma, count in sorted_lemma_count_pairs_entire_list])\n",
    "probFour = sumFrequency/totalFrequency\n",
    "print(probFour)\n",
    "\n",
    "print('Probability of drawing one of the 50 most frequent words: ')\n",
    "sumFrequency = sum([count for lemma, count in sorted_lemma_count_pairs_entire_list[:50]])\n",
    "totalFrequency = sum([count for lemma, count in sorted_lemma_count_pairs_entire_list])\n",
    "probFifty = sumFrequency/totalFrequency\n",
    "print(probFifty)"
   ]
  },
  {
   "cell_type": "markdown",
   "metadata": {},
   "source": [
    "- What proportion of the words occur only once? What proportion of the words occur fewer than 10 times?"
   ]
  },
  {
   "cell_type": "code",
   "execution_count": 105,
   "metadata": {
    "scrolled": true
   },
   "outputs": [
    {
     "name": "stdout",
     "output_type": "stream",
     "text": [
      "Occur only once: \n",
      "39453  out of  91421\n",
      "Occur fewer than 10 times: \n",
      "69439  out of  91421\n"
     ]
    }
   ],
   "source": [
    "print(\"Occur only once: \")\n",
    "countList = [count for lemma, count in sorted_lemma_count_pairs_entire_list]\n",
    "countOne = countList.count(1)\n",
    "totalCount = len(sorted_lemma_count_pairs_entire_list)\n",
    "print(countOne,\" out of \", totalCount)\n",
    "\n",
    "print(\"Occur fewer than 10 times: \")\n",
    "countLessThanTen = sum(i < 10 for i in countList)\n",
    "print(countLessThanTen,\" out of \",totalCount)"
   ]
  },
  {
   "cell_type": "markdown",
   "metadata": {},
   "source": [
    "### [Problem 3] Entity Recognition and Pointwise Mutual Information (PMI) [40 pts]\n",
    "By using the entity recognition system in `spaCy`, let's identify named entities from newspaper articles. You'll be using Reuters corpus which contains more than ten thousand newspaper articles. To run the code below, you need to download the Reuters dataset. To do so, in a terminal/command line (recall that you can open a terminal from Jupyter's webpage that shows all the files, which by default is http://localhost:8888/tree), start up Python and enter:\n",
    "\n",
    "`\n",
    "import nltk\n",
    "nltk.download('reuters')\n",
    "`\n",
    "\n",
    "Then proceed to the problem subparts below."
   ]
  },
  {
   "cell_type": "markdown",
   "metadata": {},
   "source": [
    "(a) [12 pts] Draw a bar chart in which one of the axes shows entity labels and the other shows the frequency of the corresponding label. Use the variables `reuters_nlp` and `label_counter` provided in the code below."
   ]
  },
  {
   "cell_type": "code",
   "execution_count": 108,
   "metadata": {
    "scrolled": false
   },
   "outputs": [
    {
     "data": {
      "text/plain": [
       "<matplotlib.text.Text at 0x1e600ed8390>"
      ]
     },
     "execution_count": 108,
     "metadata": {},
     "output_type": "execute_result"
    },
    {
     "data": {
      "image/png": "[encoded data removed]",
      "text/plain": [
       "<matplotlib.figure.Figure at 0x1e5d8ed3208>"
      ]
     },
     "metadata": {},
     "output_type": "display_data"
    }
   ],
   "source": [
    "import matplotlib.pyplot as plt\n",
    "from collections import Counter\n",
    "from nltk.corpus import reuters\n",
    "from operator import itemgetter\n",
    "import re\n",
    "import spacy\n",
    "nlp = spacy.load('en')\n",
    "reuters_fileids = reuters.fileids()  # hint: when first debugging, consider looking at just the first few\n",
    "reuters_nlp = [nlp(re.sub('\\s+',' ', reuters.raw(i)).strip()) for i in reuters_fileids]\n",
    "label_counter = Counter()\n",
    "for i in range(len(reuters_nlp)):\n",
    "    for entity in reuters_nlp[i].ents:\n",
    "        label = entity.label_\n",
    "        if label in label_counter:\n",
    "            label_counter[label] += 1\n",
    "        else:\n",
    "            label_counter[label] = 1\n",
    "            \n",
    "sorted_label_count_pairs_entire_list  = sorted(label_counter.items(),\n",
    "                                 reverse=True,\n",
    "                                 key=lambda x: x[1])\n",
    "\n",
    "plt.style.use('ggplot')  # prettier plots\n",
    "num_of_labels_to_plot = len(sorted_label_count_pairs_entire_list)\n",
    "label = [label for label, count in sorted_label_count_pairs_entire_list[:num_of_labels_to_plot]]\n",
    "count = [count for label, count in sorted_label_count_pairs_entire_list[:num_of_labels_to_plot]]\n",
    "plt.bar(range(num_of_labels_to_plot), count, align='center')\n",
    "plt.xticks(range(num_of_labels_to_plot), label, rotation=90)\n",
    "plt.xlabel('Label')\n",
    "plt.ylabel('Frequency')"
   ]
  },
  {
   "cell_type": "markdown",
   "metadata": {},
   "source": [
    "(b) [12 pts] Now list the top 10 most frequently occured entities (entity text and the number of occurence) with labels `ORG` (organization) and `GPE` (countries, cities, states) respectively."
   ]
  },
  {
   "cell_type": "code",
   "execution_count": 116,
   "metadata": {},
   "outputs": [
    {
     "name": "stdout",
     "output_type": "stream",
     "text": [
      "ORG\n",
      "QTR : 915\n",
      "EC : 837\n",
      "USDA : 502\n",
      "Reuters : 499\n",
      "OPEC : 465\n",
      "Fed : 395\n",
      "CTS : 323\n",
      "Bundesbank : 315\n",
      "the Securities and Exchange Commission : 226\n",
      "Treasury : 215\n",
      "\n",
      "\n",
      "GPE\n",
      "U.S. : 4330\n",
      "Japan : 1336\n",
      "the United States : 518\n",
      "U.K. : 452\n",
      "Brazil : 447\n",
      "Canada : 356\n",
      "Paris : 333\n",
      "Washington : 327\n",
      "China : 326\n",
      "West Germany : 306\n"
     ]
    }
   ],
   "source": [
    "from collections import Counter\n",
    "from operator import itemgetter\n",
    "\n",
    "histogram = Counter()\n",
    "for i in range(len(reuters_nlp)):\n",
    "    for entity in reuters_nlp[i].ents:\n",
    "         if (entity.label_ == 'ORG'):\n",
    "                entityText = entity.text\n",
    "                if entityText in histogram:\n",
    "                    histogram[entityText] += 1\n",
    "                else:\n",
    "                    histogram[entityText] = 1\n",
    "                    \n",
    "sorted_entity_count_pairs = sorted(histogram.items(),\n",
    "                                  reverse=True,\n",
    "                                  key=itemgetter(1))\n",
    "\n",
    "sorted_entity_count_pairs_ten = sorted_entity_count_pairs[0:10]\n",
    "\n",
    "print(\"ORG\")\n",
    "for entity, count in sorted_entity_count_pairs_ten:\n",
    "    print(entity, \":\", count)\n",
    "\n",
    "\n",
    "histogram_gpe = Counter()\n",
    "for i in range(len(reuters_nlp)):\n",
    "    for entity in reuters_nlp[i].ents:\n",
    "         if (entity.label_ == 'GPE'):\n",
    "                entityText = entity.text\n",
    "                if entityText in histogram_gpe:\n",
    "                    histogram_gpe[entityText] += 1\n",
    "                else:\n",
    "                    histogram_gpe[entityText] = 1\n",
    "                    \n",
    "sorted_entity_count_pairs_gpe = sorted(histogram_gpe.items(),\n",
    "                                  reverse=True,\n",
    "                                  key=itemgetter(1))\n",
    "\n",
    "sorted_entity_count_pairs_ten_gpe = sorted_entity_count_pairs_gpe[0:10]\n",
    "\n",
    "print(\"\\n\")\n",
    "print(\"GPE\")       \n",
    "for entity, count in sorted_entity_count_pairs_ten_gpe:\n",
    "    print(entity, \":\", count)"
   ]
  },
  {
   "cell_type": "markdown",
   "metadata": {},
   "source": [
    "(c) [16 pts] Give the top 50 `GPE` (countries, cities, states) entities that have the highest Pointwise Mutual Information (PMI) values with regard to the `ORG` (organization) entity **'opec'** (your list of this top 50 should be ranked in decreasing PMI value). Did you find any unexpected results? If so, why do you think it happened? If you found some of the results to be unsurprisingly, how come? (Hint: To compute this ranking, you do not have to compute the full PMI equation.)"
   ]
  },
  {
   "cell_type": "code",
   "execution_count": 112,
   "metadata": {},
   "outputs": [
    {
     "name": "stdout",
     "output_type": "stream",
     "text": [
      "visnews : 0.0\n",
      "guayaquil : 0.0\n",
      "saudi arabian : 0.0\n",
      "yanbu : 0.0\n",
      "energy : 0.0\n",
      "tripoli : 0.0\n",
      "13-year low of : 0.0\n",
      "japan indonesia 's : 0.0\n",
      "aramco : 0.0\n",
      "petromin : 0.0\n",
      "september norway 's : 0.0\n",
      "ekofisk : 0.0\n",
      "ula : 0.0\n",
      "statfjord : 0.0\n",
      "sungari : 0.0\n",
      "miraflores : 0.0\n",
      "bethesda : 0.0\n",
      "wellemeyer : 0.0\n",
      "britian : 0.0\n",
      "spa : 0.0\n",
      "earthquake ecuador : 0.0\n",
      "ras tanurah : 0.0\n",
      "ju'aymah : 0.0\n",
      "jubail : 0.0\n",
      "bahrain deputy : 0.0\n",
      "doha : 0.0\n",
      "cantarell : 0.0\n",
      "kittiwake : 0.0\n",
      "stanlow : 0.0\n",
      "vienna : -0.23446525363702297\n",
      "riyadh : -0.3219280948873623\n",
      "mercalli : -0.3219280948873623\n",
      "balao : -0.5305147166987799\n",
      "saudi arabia 's : -0.5405683813627028\n",
      "quito : -0.5849625007211563\n",
      "gabon : -0.5849625007211563\n",
      "the united arab emirates : -0.6520766965796932\n",
      "qatar : -0.7548875021634686\n",
      "dubai : -0.8073549220576043\n",
      "caracas : -1.0\n",
      "abu dhabi : -1.0\n",
      "minas : -1.0\n",
      "ras tannurah : -1.0\n",
      "opec : -1.0\n",
      "gullfaks : -1.0\n",
      "oseberg : -1.0\n",
      "gulf arab : -1.0\n",
      "amazon : -1.0\n",
      "port jerome : -1.0\n",
      "java : -1.0\n"
     ]
    }
   ],
   "source": [
    "import math\n",
    "from collections import Counter\n",
    "from operator import itemgetter\n",
    "\n",
    "\n",
    "GPE_OPEC_Count = Counter()\n",
    "gpe_opec = {}\n",
    "for doc in reuters_nlp:\n",
    "    gpe_opec.clear()\n",
    "    for entity in doc.ents:\n",
    "        if('OPEC' in doc.string and entity.label_ =='GPE' and entity.lemma_ not in gpe_opec):\n",
    "            GPE_OPEC_Count[entity.lemma_] +=1\n",
    "            gpe_opec[entity.lemma_] = 'Yes'\n",
    "            \n",
    "gpe_count = Counter()\n",
    "gpe= {}\n",
    "for doc in reuters_nlp:\n",
    "    gpe.clear()\n",
    "    for entity in doc.ents:\n",
    "        if (entity.label_ == \"GPE\" and entity.lemma_ not in gpe):\n",
    "            gpe[entity.lemma_] = 'Yes'\n",
    "            gpe_count[entity.lemma_] += 1\n",
    "            \n",
    "opec_count=Counter()\n",
    "opec={}\n",
    "for doc in reuters_nlp:\n",
    "    opec.clear()\n",
    "    for entity in doc.ents:\n",
    "        if(entity.text =='OPEC'and entity.lemma_ not in opec):\n",
    "            opec_count[entity.lemma_] +=1\n",
    "            opec[entity.lemma_] = 'Yes'\n",
    "\n",
    "list = []\n",
    "for (key,val) in GPE_OPEC_Count.most_common():\n",
    "    gpe_opec_key = key\n",
    "    gpe_opec_val = val\n",
    "    for (key,val) in gpe_count.most_common():\n",
    "        gpe_key = key\n",
    "        gpe_val = val\n",
    "        if (gpe_opec_key == gpe_key):\n",
    "            PMI = math.log(gpe_opec_val/gpe_val, 2)\n",
    "            list.append((gpe_opec_key,PMI))\n",
    "\n",
    "            \n",
    "sorted_list = sorted(list,reverse=True,key=lambda x: x[1])\n",
    "top_50 = sorted_list[0:50]\n",
    "\n",
    "for gpe, count in top_50:\n",
    "    print(gpe,\":\", count)\n",
    "    \n",
    "        \n",
    "\n",
    "\n"
   ]
  },
  {
   "cell_type": "markdown",
   "metadata": {},
   "source": [
    "The visnews at the top as a geopolitical entity is surprising and it might have occured because of the frequent occurance of the opec and visnews in the reuters articles. \n",
    "\n",
    "The Geopolotical entities like quatar, duabai ,UAE etc are not surprising because they are the major expoters of oil and petroleum. So it's expected to have opec organizations assoociation with these GPE's."
   ]
  },
  {
   "cell_type": "markdown",
   "metadata": {},
   "source": [
    "### [Problem 4] Questionnaire [5 pts]\n",
    "Please provide feedback! To receive the 5 points, be sure to enter your Andrew ID correctly in this Google form:\n",
    "https://goo.gl/forms/Q0cz2NhZbuIuS8iR2"
   ]
  },
  {
   "cell_type": "code",
   "execution_count": null,
   "metadata": {
    "collapsed": true
   },
   "outputs": [],
   "source": []
  }
 ],
 "metadata": {
  "anaconda-cloud": {},
  "kernelspec": {
   "display_name": "Python 3",
   "language": "python",
   "name": "python3"
  }
 },
 "nbformat": 4,
 "nbformat_minor": 2
}
